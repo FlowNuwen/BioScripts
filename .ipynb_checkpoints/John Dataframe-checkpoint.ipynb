{
 "cells": [
  {
   "cell_type": "code",
   "execution_count": 8,
   "metadata": {
    "collapsed": false
   },
   "outputs": [],
   "source": [
    "##All this is just default modules that I load for every notebook\n",
    "##We won't be using all of them\n",
    "# special IPython command to prepare the notebook for matplotlib\n",
    "%matplotlib inline \n",
    "\n",
    "import requests \n",
    "import io\n",
    "import zipfile\n",
    "import numpy as np\n",
    "import pandas as pd # pandas\n",
    "import matplotlib.pyplot as plt # module for plotting \n",
    "import Bio\n",
    "from Bio import SeqIO\n",
    "\n",
    "import seaborn as sns \n",
    "\n",
    "import sklearn\n",
    "import sklearn.datasets\n",
    "import sklearn.cross_validation\n",
    "import sklearn.decomposition\n",
    "import sklearn.grid_search\n",
    "import sklearn.neighbors\n",
    "import sklearn.metrics"
   ]
  },
  {
   "cell_type": "code",
   "execution_count": 39,
   "metadata": {
    "collapsed": false
   },
   "outputs": [
    {
     "data": {
      "text/html": [
       "<div>\n",
       "<table border=\"1\" class=\"dataframe\">\n",
       "  <thead>\n",
       "    <tr style=\"text-align: right;\">\n",
       "      <th></th>\n",
       "      <th>Length</th>\n",
       "      <th>Sequence</th>\n",
       "      <th>Transcript</th>\n",
       "    </tr>\n",
       "  </thead>\n",
       "  <tbody>\n",
       "    <tr>\n",
       "      <th>0</th>\n",
       "      <td>190</td>\n",
       "      <td>TTATATAAAGTAGGAAAAATGGANTTTAACACANATTTAATTAAAA...</td>\n",
       "      <td>000000000121_Assembly</td>\n",
       "    </tr>\n",
       "    <tr>\n",
       "      <th>1</th>\n",
       "      <td>144</td>\n",
       "      <td>GCCGCCGCTGAGGCGATCGTATTCCTCCACCATGTTATCGAGATCT...</td>\n",
       "      <td>000000000603_Assembly</td>\n",
       "    </tr>\n",
       "    <tr>\n",
       "      <th>2</th>\n",
       "      <td>180</td>\n",
       "      <td>ATTCATAAGTATAACCCGAATTAGCTGCTGAAGAGGGAGCCATCGA...</td>\n",
       "      <td>000000000603_Assembly</td>\n",
       "    </tr>\n",
       "    <tr>\n",
       "      <th>3</th>\n",
       "      <td>203</td>\n",
       "      <td>TATATTTATTCGGTAACTGATATAAACTGACCATGTAATTTCTGAA...</td>\n",
       "      <td>000000000603_Assembly</td>\n",
       "    </tr>\n",
       "    <tr>\n",
       "      <th>4</th>\n",
       "      <td>204</td>\n",
       "      <td>TGCCTGATTGTAAACTTGATGAGGGGCCATAACAGAAGGAGGCGTT...</td>\n",
       "      <td>000000000603_Assembly</td>\n",
       "    </tr>\n",
       "    <tr>\n",
       "      <th>5</th>\n",
       "      <td>177</td>\n",
       "      <td>ACCCTTTTGGAAGAATCACTTATTAGTGATCTTTCAGTTGCCAAAG...</td>\n",
       "      <td>000000000737_Assembly</td>\n",
       "    </tr>\n",
       "    <tr>\n",
       "      <th>6</th>\n",
       "      <td>184</td>\n",
       "      <td>TACTCCTTCGGTTCAAATATGAGCTCCCTAAAAACCCCATATGCTG...</td>\n",
       "      <td>000000000737_Assembly</td>\n",
       "    </tr>\n",
       "    <tr>\n",
       "      <th>7</th>\n",
       "      <td>418</td>\n",
       "      <td>ACTATTGAACCATTTTCAAGACAAACTCGAAACTTTCCTGGATAAT...</td>\n",
       "      <td>000000000737_Assembly</td>\n",
       "    </tr>\n",
       "    <tr>\n",
       "      <th>8</th>\n",
       "      <td>260</td>\n",
       "      <td>CGTGCTATCTTCACGTTCGAGGCCGAGGAACATAGGACTTCTAGTG...</td>\n",
       "      <td>000000001167_Assembly</td>\n",
       "    </tr>\n",
       "    <tr>\n",
       "      <th>9</th>\n",
       "      <td>523</td>\n",
       "      <td>CGGGCTCTCGTCGTAAACGTAATCTTATAACTCTTCTTCTCACCTT...</td>\n",
       "      <td>000000001167_Assembly</td>\n",
       "    </tr>\n",
       "  </tbody>\n",
       "</table>\n",
       "</div>"
      ],
      "text/plain": [
       "   Length                                           Sequence  \\\n",
       "0     190  TTATATAAAGTAGGAAAAATGGANTTTAACACANATTTAATTAAAA...   \n",
       "1     144  GCCGCCGCTGAGGCGATCGTATTCCTCCACCATGTTATCGAGATCT...   \n",
       "2     180  ATTCATAAGTATAACCCGAATTAGCTGCTGAAGAGGGAGCCATCGA...   \n",
       "3     203  TATATTTATTCGGTAACTGATATAAACTGACCATGTAATTTCTGAA...   \n",
       "4     204  TGCCTGATTGTAAACTTGATGAGGGGCCATAACAGAAGGAGGCGTT...   \n",
       "5     177  ACCCTTTTGGAAGAATCACTTATTAGTGATCTTTCAGTTGCCAAAG...   \n",
       "6     184  TACTCCTTCGGTTCAAATATGAGCTCCCTAAAAACCCCATATGCTG...   \n",
       "7     418  ACTATTGAACCATTTTCAAGACAAACTCGAAACTTTCCTGGATAAT...   \n",
       "8     260  CGTGCTATCTTCACGTTCGAGGCCGAGGAACATAGGACTTCTAGTG...   \n",
       "9     523  CGGGCTCTCGTCGTAAACGTAATCTTATAACTCTTCTTCTCACCTT...   \n",
       "\n",
       "              Transcript  \n",
       "0  000000000121_Assembly  \n",
       "1  000000000603_Assembly  \n",
       "2  000000000603_Assembly  \n",
       "3  000000000603_Assembly  \n",
       "4  000000000603_Assembly  \n",
       "5  000000000737_Assembly  \n",
       "6  000000000737_Assembly  \n",
       "7  000000000737_Assembly  \n",
       "8  000000001167_Assembly  \n",
       "9  000000001167_Assembly  "
      ]
     },
     "execution_count": 39,
     "metadata": {},
     "output_type": "execute_result"
    }
   ],
   "source": [
    "input_file = 'C:\\Users\\Wolfgang Rahfeldt\\Desktop\\UNIQUEPROBEPRELIMF-1'\n",
    "with open(input_file) as fasta_file:  # Will close handle cleanly\n",
    "    identifiers = []\n",
    "    sequence = []\n",
    "    lengths = []\n",
    "    for seq_record in SeqIO.parse(fasta_file, 'fasta'):  # (generator)\n",
    "        identifiers.append(seq_record.id)\n",
    "        sequence.append(str(seq_record.seq))\n",
    "        lengths.append(len(seq_record.seq))\n",
    "df = pd.DataFrame({'Sequence':sequence, 'Length':lengths, 'Transcript': identifiers})\n",
    "df.head(10)"
   ]
  },
  {
   "cell_type": "code",
   "execution_count": 33,
   "metadata": {
    "collapsed": false
   },
   "outputs": [
    {
     "data": {
      "text/plain": [
       "(3222, 3)"
      ]
     },
     "execution_count": 33,
     "metadata": {},
     "output_type": "execute_result"
    }
   ],
   "source": [
    "#the shape of our dataframe (rows, columns)\n",
    "df.shape"
   ]
  },
  {
   "cell_type": "code",
   "execution_count": 35,
   "metadata": {
    "collapsed": false
   },
   "outputs": [
    {
     "name": "stdout",
     "output_type": "stream",
     "text": [
      "Number of Unique Transcripts:\n",
      "905\n"
     ]
    }
   ],
   "source": [
    "#for the transcript column, find unique strings, and then put them into a list\n",
    "uniquetrans = df['Transcript'].unique().tolist()\n",
    "#find the length of this list\n",
    "uniquetranslen = len(uniquetrans)\n",
    "#call the length\n",
    "print('Number of Unique Transcripts:')\n",
    "print(uniquetranslen)"
   ]
  },
  {
   "cell_type": "code",
   "execution_count": 36,
   "metadata": {
    "collapsed": false
   },
   "outputs": [
    {
     "name": "stdout",
     "output_type": "stream",
     "text": [
      "Total Length of Base Pairs:\n",
      "760603\n"
     ]
    }
   ],
   "source": [
    "totallength = df[['Length']].values.sum()\n",
    "print(\"Total Length of Base Pairs:\")\n",
    "print(totallength)"
   ]
  },
  {
   "cell_type": "code",
   "execution_count": 37,
   "metadata": {
    "collapsed": false
   },
   "outputs": [
    {
     "data": {
      "image/png": "[encoded data removed]",
      "text/plain": [
       "<matplotlib.figure.Figure at 0xe538860>"
      ]
     },
     "metadata": {},
     "output_type": "display_data"
    }
   ],
   "source": [
    "sns.distplot(df['Length'])\n",
    "plt.ylabel('Frequency')\n",
    "plt.xlabel('Transcript Length')\n",
    "plt.title('Histogram of Transcript Lengths')\n",
    "plt.show()"
   ]
  },
  {
   "cell_type": "code",
   "execution_count": 40,
   "metadata": {
    "collapsed": false
   },
   "outputs": [
    {
     "name": "stdout",
     "output_type": "stream",
     "text": [
      "Number of Unique Sequences:\n",
      "3222\n"
     ]
    }
   ],
   "source": [
    "#same process for sequence to find number of unique sequences\n",
    "uniqueseq = df['Sequence'].unique().tolist()\n",
    "uniqueseqlen = len(uniqueseq)\n",
    "print('Number of Unique Sequences:')\n",
    "print(uniqueseqlen)"
   ]
  },
  {
   "cell_type": "markdown",
   "metadata": {},
   "source": [
    "Interestingly, it appears you have as many exons as you do samples. "
   ]
  }
 ],
 "metadata": {
  "anaconda-cloud": {},
  "kernelspec": {
   "display_name": "Python [Root]",
   "language": "python",
   "name": "Python [Root]"
  },
  "language_info": {
   "codemirror_mode": {
    "name": "ipython",
    "version": 2
   },
   "file_extension": ".py",
   "mimetype": "text/x-python",
   "name": "python",
   "nbconvert_exporter": "python",
   "pygments_lexer": "ipython2",
   "version": "2.7.12"
  }
 },
 "nbformat": 4,
 "nbformat_minor": 1
}
